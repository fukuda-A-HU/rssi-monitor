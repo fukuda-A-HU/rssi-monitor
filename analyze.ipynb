{
 "cells": [
  {
   "cell_type": "code",
   "execution_count": 1,
   "metadata": {},
   "outputs": [
    {
     "name": "stdout",
     "output_type": "stream",
     "text": [
      "測定されたRSSIが 50.0 [dBm] のとき、距離 d は約 0.37 [m]\n"
     ]
    }
   ],
   "source": [
    "import math\n",
    "import random\n",
    "\n",
    "# 定数の定義\n",
    "d0 = 1.0  # 基準距離 [m]\n",
    "PL_bar = 40.0  # 平均RSSI [dBm]\n",
    "gamma = 3.0  # 距離減衰定数\n",
    "sigma = 2.0  # X_sigma の標準偏差 [dB]\n",
    "\n",
    "# ガウス分布に従うランダムな値 X_sigma を生成\n",
    "X_sigma = random.gauss(0, sigma)\n",
    "\n",
    "def calculate_distance(PL):\n",
    "    \"\"\"\n",
    "    与えられた PL [dBm] の値から距離 d [m] を計算します。\n",
    "    \"\"\"\n",
    "    exponent = (PL_bar - PL + X_sigma) / (10 * gamma)\n",
    "    d = d0 * (10 ** exponent)\n",
    "    return d\n",
    "\n",
    "# 例として PL = 50 [dBm] の場合の距離を計算\n",
    "PL_input = 50.0  # 与えられた RSSI 値 [dBm]\n",
    "distance = calculate_distance(PL_input)\n",
    "\n",
    "print(f\"測定されたRSSIが {PL_input} [dBm] のとき、距離 d は約 {distance:.2f} [m]\")"
   ]
  },
  {
   "cell_type": "code",
   "execution_count": 2,
   "metadata": {},
   "outputs": [
    {
     "name": "stdout",
     "output_type": "stream",
     "text": [
      "The vendor for MAC address 44:38:39:ff:ef:57 is: CumulusN\n"
     ]
    }
   ],
   "source": [
    "import requests\n",
    "import nest_asyncio\n",
    "#import macaddress\n",
    "# from mac_vendor_lookup import MacLookup\n",
    "from manuf import manuf\n",
    "\n",
    "# Initialize the Manuf instance\n",
    "p = manuf.MacParser()\n",
    "# Allow nested event loops\n",
    "nest_asyncio.apply()\n",
    "\n",
    "# mac = MacLookup()\n",
    "# mac.update_vendors() \n",
    "\n",
    "\n",
    "\n",
    "def get_vendor_from_mac(mac):\n",
    "    \"\"\"\n",
    "    MACアドレスからベンダ情報を取得します。\n",
    "    \"\"\"\n",
    "    vendor = p.get_manuf(mac)\n",
    "    return vendor if vendor else \"Unknown Vendor\"\n",
    "# 例としてMACアドレスを指定して検索\n",
    "mac_address = \"44:38:39:ff:ef:57\"\n",
    "vendor = get_vendor_from_mac(mac_address)\n",
    "print(f\"The vendor for MAC address {mac_address} is: {vendor}\")\n"
   ]
  },
  {
   "cell_type": "code",
   "execution_count": 1,
   "metadata": {},
   "outputs": [
    {
     "ename": "ValueError",
     "evalue": "too many values to unpack (expected 4)",
     "output_type": "error",
     "traceback": [
      "\u001b[0;31m---------------------------------------------------------------------------\u001b[0m",
      "\u001b[0;31mValueError\u001b[0m                                Traceback (most recent call last)",
      "Cell \u001b[0;32mIn[1], line 26\u001b[0m\n\u001b[1;32m     24\u001b[0m \u001b[38;5;28;01mif\u001b[39;00m pattern\u001b[38;5;241m.\u001b[39mmatch(line):\n\u001b[1;32m     25\u001b[0m     \u001b[38;5;28;01mcontinue\u001b[39;00m\n\u001b[0;32m---> 26\u001b[0m timestamp, mac, rssi, signaltype\u001b[38;5;241m=\u001b[39m line\u001b[38;5;241m.\u001b[39mstrip()\u001b[38;5;241m.\u001b[39msplit(\u001b[38;5;124m\"\u001b[39m\u001b[38;5;130;01m\\t\u001b[39;00m\u001b[38;5;124m\"\u001b[39m)\n\u001b[1;32m     27\u001b[0m rssi \u001b[38;5;241m=\u001b[39m \u001b[38;5;28mfloat\u001b[39m(rssi)\n\u001b[1;32m     29\u001b[0m \u001b[38;5;28;01mif\u001b[39;00m mac \u001b[38;5;129;01mnot\u001b[39;00m \u001b[38;5;129;01min\u001b[39;00m mac_rssi:\n",
      "\u001b[0;31mValueError\u001b[0m: too many values to unpack (expected 4)"
     ]
    }
   ],
   "source": [
    "# output.txtの結果を読み込む\n",
    "# timestamp, MACアドレス, RSSIがTabで仕切られて一行にまとまっているので、これを分ける\n",
    "with open(\"output.txt\", \"r\") as f:\n",
    "    lines = f.readlines()\n",
    "\n",
    "# MACアドレスごとのRSSIを計算\n",
    "mac_rssi = {}\n",
    "# MACアドレスごとの検出された数\n",
    "mac_count = {}\n",
    "# MACアドレスごとの最後に検出された時間\n",
    "mac_last_timestamp = {}\n",
    "# MACアドレスごとのベンダー名\n",
    "mac_vendor = {}\n",
    "\n",
    "\n",
    "import re\n",
    "\n",
    "# BLEフォーマットに一致するパターン\n",
    "pattern = re.compile(r'^\\d+\\.\\d+\\t([0-9a-fA-F]{2}:){5}[0-9a-fA-F]{2}\\t-?\\d+\\tBLE$')\n",
    "\n",
    "\n",
    "for line in lines:\n",
    "    # 形式に合わない行をスキップ\n",
    "    if pattern.match(line):\n",
    "        continue\n",
    "    timestamp, mac, rssi, signaltype= line.strip().split(\"\\t\")\n",
    "    rssi = float(rssi)\n",
    "\n",
    "    if mac not in mac_rssi:\n",
    "        mac_rssi[mac] = []\n",
    "\n",
    "    if mac not in mac_last_timestamp:\n",
    "        mac_last_timestamp[mac] = 0\n",
    "\n",
    "    mac_last_timestamp[mac] = max(mac_last_timestamp[mac], float(timestamp))\n",
    "    mac_rssi[mac].append(rssi)\n",
    "\n",
    "\n",
    "    # MACアドレスごとのベンダー名を取得\n",
    "    if mac not in mac_vendor:\n",
    "        # mac_vendor[mac] = get_vendor_from_mac(mac)\n",
    "        pass\n",
    "\n",
    "# MACアドレスごとのRSSIの検出数を計算\n",
    "for mac, rssi_list in mac_rssi.items():\n",
    "    mac_count[mac] = len(rssi_list)\n",
    "\n",
    "# MACアドレスを検出された回数の多い順にソート\n",
    "mac_count = dict(sorted(mac_count.items(), key=lambda x: x[1], reverse=True))\n",
    "\n",
    "# MACアドレスごとの平均RSSIを計算\n",
    "mac_avg_rssi = {}\n",
    "for mac, rssi_list in mac_rssi.items():\n",
    "    avg_rssi = sum(rssi_list) / len(rssi_list)\n",
    "    mac_avg_rssi[mac] = avg_rssi\n",
    "\n",
    "print(\"MACアドレスごとの平均RSSI\")\n",
    "for mac in mac_count.keys():\n",
    "    # print(f\"{mac}: {mac_avg_rssi[mac]:.2f} [dBm] ({mac_count[mac]}回検出)\" + f\" ({mac_vendor[mac]})\")\n",
    "    print(f\"{mac}: {mac_avg_rssi[mac]:.2f} [dBm] ({mac_count[mac]}回検出)\")    "
   ]
  }
 ],
 "metadata": {
  "kernelspec": {
   "display_name": ".venv",
   "language": "python",
   "name": "python3"
  },
  "language_info": {
   "codemirror_mode": {
    "name": "ipython",
    "version": 3
   },
   "file_extension": ".py",
   "mimetype": "text/x-python",
   "name": "python",
   "nbconvert_exporter": "python",
   "pygments_lexer": "ipython3",
   "version": "3.11.2"
  }
 },
 "nbformat": 4,
 "nbformat_minor": 2
}
