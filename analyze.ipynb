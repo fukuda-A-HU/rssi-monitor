{
 "cells": [
  {
   "cell_type": "code",
   "execution_count": 1,
   "metadata": {},
   "outputs": [
    {
     "name": "stdout",
     "output_type": "stream",
     "text": [
      "測定されたRSSIが 50.0 [dBm] のとき、距離 d は約 0.37 [m]\n"
     ]
    }
   ],
   "source": [
    "import math\n",
    "import random\n",
    "\n",
    "# 定数の定義\n",
    "d0 = 1.0  # 基準距離 [m]\n",
    "PL_bar = 40.0  # 平均RSSI [dBm]\n",
    "gamma = 3.0  # 距離減衰定数\n",
    "sigma = 2.0  # X_sigma の標準偏差 [dB]\n",
    "\n",
    "# ガウス分布に従うランダムな値 X_sigma を生成\n",
    "X_sigma = random.gauss(0, sigma)\n",
    "\n",
    "def calculate_distance(PL):\n",
    "    \"\"\"\n",
    "    与えられた PL [dBm] の値から距離 d [m] を計算します。\n",
    "    \"\"\"\n",
    "    exponent = (PL_bar - PL + X_sigma) / (10 * gamma)\n",
    "    d = d0 * (10 ** exponent)\n",
    "    return d\n",
    "\n",
    "# 例として PL = 50 [dBm] の場合の距離を計算\n",
    "PL_input = 50.0  # 与えられた RSSI 値 [dBm]\n",
    "distance = calculate_distance(PL_input)\n",
    "\n",
    "print(f\"測定されたRSSIが {PL_input} [dBm] のとき、距離 d は約 {distance:.2f} [m]\")"
   ]
  }
 ],
 "metadata": {
  "kernelspec": {
   "display_name": ".venv",
   "language": "python",
   "name": "python3"
  },
  "language_info": {
   "codemirror_mode": {
    "name": "ipython",
    "version": 3
   },
   "file_extension": ".py",
   "mimetype": "text/x-python",
   "name": "python",
   "nbconvert_exporter": "python",
   "pygments_lexer": "ipython3",
   "version": "3.11.2"
  }
 },
 "nbformat": 4,
 "nbformat_minor": 2
}
